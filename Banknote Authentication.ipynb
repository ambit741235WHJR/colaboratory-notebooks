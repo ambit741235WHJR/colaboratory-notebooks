{
  "nbformat": 4,
  "nbformat_minor": 0,
  "metadata": {
    "colab": {
      "name": "Banknote Authentication.ipynb",
      "provenance": [],
      "collapsed_sections": [],
      "mount_file_id": "1UjNY45J3LyjU9eoYd5KRsa8lUZRF4ftx",
      "authorship_tag": "ABX9TyPc4Nwy4IoZp3ZkZIiTCphm",
      "include_colab_link": true
    },
    "kernelspec": {
      "name": "python3",
      "display_name": "Python 3"
    },
    "language_info": {
      "name": "python"
    }
  },
  "cells": [
    {
      "cell_type": "markdown",
      "metadata": {
        "id": "view-in-github",
        "colab_type": "text"
      },
      "source": [
        "<a href=\"https://colab.research.google.com/github/ambit741235WHJR/colaboratory-notebooks/blob/main/Banknote%20Authentication.ipynb\" target=\"_parent\"><img src=\"https://colab.research.google.com/assets/colab-badge.svg\" alt=\"Open In Colab\"/></a>"
      ]
    },
    {
      "cell_type": "code",
      "execution_count": null,
      "metadata": {
        "id": "VTYPTKDzgPLY"
      },
      "outputs": [],
      "source": [
        "import pandas as pd\n",
        "import numpy as np\n",
        "import seaborn as sns\n",
        "import matplotlib.pyplot as plt\n",
        "\n",
        "import warnings\n",
        "warnings.filterwarnings('ignore')"
      ]
    },
    {
      "cell_type": "code",
      "source": [
        "df = pd.read_csv(\"/content/drive/MyDrive/File uploads/BankNote_Authentication.csv\")\n",
        "print(df.head())"
      ],
      "metadata": {
        "colab": {
          "base_uri": "https://localhost:8080/"
        },
        "id": "UVR4TAxChLUS",
        "outputId": "dccd912e-9b35-4e2d-e086-e68e03865a6c"
      },
      "execution_count": null,
      "outputs": [
        {
          "output_type": "stream",
          "name": "stdout",
          "text": [
            "   variance  skewness  curtosis  entropy  class\n",
            "0   3.62160    8.6661   -2.8073 -0.44699      0\n",
            "1   4.54590    8.1674   -2.4586 -1.46210      0\n",
            "2   3.86600   -2.6383    1.9242  0.10645      0\n",
            "3   3.45660    9.5228   -4.0112 -3.59440      0\n",
            "4   0.32924   -4.4552    4.5718 -0.98880      0\n"
          ]
        }
      ]
    },
    {
      "cell_type": "code",
      "source": [
        "from sklearn.model_selection import train_test_split\n",
        "skewness = df[\"skewness\"]\n",
        "variance = df['variance']\n",
        "skewness_train, skewness_test, variance_train, variance_test = train_test_split(skewness, variance, test_size = 0.25, random_state = 0)\n",
        "\n",
        "from sklearn.linear_model import LogisticRegression\n",
        "x = np.reshape(skewness_train.ravel(), (len(skewness_train), 1))\n",
        "y = np.reshape(variance_train.ravel(), (len(variance_train), 1))\n",
        "classifier = LogisticRegression(random_state = 0)\n",
        "classifier.fit(x.astype('int'), y.astype('int'))\n",
        "x_test = np.reshape(skewness_test.ravel(), (len(skewness_test), 1))\n",
        "y_test = np.reshape(variance_test.ravel(), (len(variance_test), 1))\n",
        "\n",
        "skewness_prediction = classifier.predict(x_test)\n",
        "predicted_values = []\n",
        "for i in skewness_prediction:\n",
        "  if i == 0:\n",
        "    predicted_values.append(\"AUTHORIZED\")\n",
        "  else:\n",
        "    predicted_values.append(\"FORGED\")\n",
        "\n",
        "actual_values = []\n",
        "for i in y_test.ravel():\n",
        "  if i == 0:\n",
        "    actual_values.append(\"AUTHORIZED\")\n",
        "  else:\n",
        "    actual_values.append(\"FORGED\")\n",
        "\n",
        "labels = [\"FORGED\", \"AUTHORIZED\"]\n",
        "from sklearn.metrics import confusion_matrix\n",
        "\n",
        "cm = confusion_matrix(actual_values, predicted_values)\n",
        "ax = plt.subplot()\n",
        "sns.heatmap(cm, annot = True, ax = ax)\n",
        "ax.set_xlabel(\"PREDICTED\")\n",
        "ax.set_ylabel(\"ACTUAL\")\n",
        "ax.set_title(\"CONFUSION MATRIX\")\n",
        "ax.xaxis.set_ticklabels(labels)\n",
        "ax.yaxis.set_ticklabels(labels)"
      ],
      "metadata": {
        "colab": {
          "base_uri": "https://localhost:8080/",
          "height": 313
        },
        "id": "bliQdTHThR0A",
        "outputId": "6a86835d-f243-4b15-f11d-ba3617b4a1b5"
      },
      "execution_count": null,
      "outputs": [
        {
          "output_type": "execute_result",
          "data": {
            "text/plain": [
              "[Text(0, 0.5, 'FORGED'), Text(0, 1.5, 'AUTHORIZED')]"
            ]
          },
          "metadata": {},
          "execution_count": 51
        },
        {
          "output_type": "display_data",
          "data": {
            "text/plain": [
              "<Figure size 432x288 with 2 Axes>"
            ],
            "image/png": "[encoded data removed]"
          },
          "metadata": {
            "needs_background": "light"
          }
        }
      ]
    }
  ]
}