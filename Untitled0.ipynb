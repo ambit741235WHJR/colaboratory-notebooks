{
  "nbformat": 4,
  "nbformat_minor": 0,
  "metadata": {
    "colab": {
      "name": "Untitled3.ipynb",
      "provenance": [],
      "mount_file_id": "https://github.com/ambit741235WHJR/colaboratory-notebooks/blob/main/Untitled0.ipynb",
      "authorship_tag": "ABX9TyO7nsxNKmw93dwWchuUkFZt",
      "include_colab_link": true
    },
    "kernelspec": {
      "name": "python3",
      "display_name": "Python 3"
    },
    "language_info": {
      "name": "python"
    }
  },
  "cells": [
    {
      "cell_type": "markdown",
      "metadata": {
        "id": "view-in-github",
        "colab_type": "text"
      },
      "source": [
        "<a href=\"https://colab.research.google.com/github/ambit741235WHJR/colaboratory-notebooks/blob/main/Untitled0.ipynb\" target=\"_parent\"><img src=\"https://colab.research.google.com/assets/colab-badge.svg\" alt=\"Open In Colab\"/></a>"
      ]
    },
    {
      "cell_type": "code",
      "execution_count": null,
      "metadata": {
        "id": "HTNPBDHBNHjt"
      },
      "outputs": [],
      "source": [
        "import pandas as pd\n",
        "import plotly.express as px\n",
        "\n",
        "df = pd.read_csv(\"/content/drive/MyDrive/File uploads/logistics_data.csv\")\n",
        "salary = df[\"EstimatedSalary\"].tolist()\n",
        "purchased = df[\"Purchased\"].tolist()\n",
        "\n",
        "fig = px.scatter(x = salary, y = purchased).show()"
      ]
    }
  ]
}